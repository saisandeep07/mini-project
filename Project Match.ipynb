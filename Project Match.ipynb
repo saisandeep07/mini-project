{
 "cells": [
  {
   "cell_type": "code",
   "execution_count": null,
   "metadata": {},
   "outputs": [],
   "source": []
  },
  {
   "cell_type": "code",
   "execution_count": 25,
   "metadata": {},
   "outputs": [],
   "source": [
    "import pandas as pd \n",
    "import matplotlib.pyplot as plt\n",
    "import numpy as np"
   ]
  },
  {
   "cell_type": "code",
   "execution_count": null,
   "metadata": {},
   "outputs": [],
   "source": []
  },
  {
   "cell_type": "markdown",
   "metadata": {},
   "source": [
    "###  DisPlaying thr count of the matches based on year 2011"
   ]
  },
  {
   "cell_type": "code",
   "execution_count": 20,
   "metadata": {},
   "outputs": [
    {
     "name": "stdout",
     "output_type": "stream",
     "text": [
      "Season_Year\n",
      "2008    58\n",
      "2009    57\n",
      "2010    60\n",
      "2011    73\n",
      "2012    74\n",
      "2013    76\n",
      "2014    60\n",
      "2015    59\n",
      "2016    60\n",
      "2017    60\n",
      "Name: Country_id, dtype: int64\n"
     ]
    }
   ],
   "source": [
    "# q1\n",
    "a=df.groupby('Season_Year')['Country_id'].count()\n",
    "print(a)"
   ]
  },
  {
   "cell_type": "markdown",
   "metadata": {},
   "source": [
    "## Problem statement\n",
    "- plot a bar graph no of matches won by each team in the year 2011"
   ]
  },
  {
   "cell_type": "markdown",
   "metadata": {},
   "source": [
    "## Description of the problem\n",
    "- data frame is resticted to year 2011 and is grouped by match winner and the number of times each team won is counted using\n",
    "- country id\n",
    "- then the data frame is converted into list of index and values\n",
    "- then a bar graph is drawn"
   ]
  },
  {
   "cell_type": "code",
   "execution_count": 26,
   "metadata": {},
   "outputs": [
    {
     "data": {
      "text/plain": [
       "<BarContainer object of 10 artists>"
      ]
     },
     "execution_count": 26,
     "metadata": {},
     "output_type": "execute_result"
    },
    {
     "data": {
      "image/png": "[encoded data removed]",
      "text/plain": [
       "<Figure size 432x288 with 1 Axes>"
      ]
     },
     "metadata": {
      "needs_background": "light"
     },
     "output_type": "display_data"
    }
   ],
   "source": [
    "# q2\n",
    "b=df[df['Season_Year']==2011].groupby('match_winner')['Country_id'].count()\n",
    "q=b.index.tolist()\n",
    "w=b.values.tolist()\n",
    "plt.bar(q,w,color='red',width=0.5)"
   ]
  },
  {
   "cell_type": "code",
   "execution_count": 41,
   "metadata": {},
   "outputs": [
    {
     "data": {
      "text/plain": [
       "ManOfMach\n",
       "A Mishra             2\n",
       "AB Dinda             1\n",
       "AT Rayudu            1\n",
       "B Kumar              1\n",
       "CH Morris            1\n",
       "DA Warner            6\n",
       "DJ Bravo             1\n",
       "DJG Sammy            1\n",
       "DW Steyn             3\n",
       "G Gambhir            1\n",
       "GH Vihari            2\n",
       "I Sharma             1\n",
       "MJ McClenaghan       1\n",
       "MR Marsh             1\n",
       "Mandeep Singh        1\n",
       "Mustafizur Rahman    1\n",
       "PA Patel             1\n",
       "PC Valthaty          1\n",
       "R Vinay Kumar        1\n",
       "SC Ganguly           1\n",
       "SE Marsh             1\n",
       "SK Raina             2\n",
       "SK Trivedi           1\n",
       "SL Malinga           1\n",
       "UT Yadav             1\n",
       "V Kohli              1\n",
       "V Sehwag             2\n",
       "WP Saha              1\n",
       "YK Pathan            2\n",
       "Name: Country_id, dtype: int64"
      ]
     },
     "execution_count": 41,
     "metadata": {},
     "output_type": "execute_result"
    }
   ],
   "source": [
    "# q3\n",
    "df[df['City_Name']=='Hyderabad'].groupby('ManOfMach')['Country_id'].count()\n"
   ]
  },
  {
   "cell_type": "code",
   "execution_count": null,
   "metadata": {},
   "outputs": [],
   "source": []
  },
  {
   "cell_type": "code",
   "execution_count": null,
   "metadata": {},
   "outputs": [],
   "source": []
  },
  {
   "cell_type": "code",
   "execution_count": null,
   "metadata": {},
   "outputs": [],
   "source": []
  }
 ],
 "metadata": {
  "kernelspec": {
   "display_name": "Python 3",
   "language": "python",
   "name": "python3"
  },
  "language_info": {
   "codemirror_mode": {
    "name": "ipython",
    "version": 3
   },
   "file_extension": ".py",
   "mimetype": "text/x-python",
   "name": "python",
   "nbconvert_exporter": "python",
   "pygments_lexer": "ipython3",
   "version": "3.7.3"
  }
 },
 "nbformat": 4,
 "nbformat_minor": 2
}
